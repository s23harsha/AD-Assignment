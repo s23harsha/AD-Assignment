{
 "cells": [
  {
   "cell_type": "code",
   "execution_count": 1,
   "metadata": {},
   "outputs": [],
   "source": [
    "import re\n",
    "from collections import Counter\n",
    "\n",
    "def load_text(file_path):\n",
    "    \"\"\"Load text from a file.\"\"\"\n",
    "    with open(file_path, 'r', encoding='utf-8') as file:\n",
    "        return file.read()\n",
    "\n",
    "def tokenize(text):\n",
    "    \"\"\"Tokenize text by removing non-alphanumeric characters and converting to lowercase.\"\"\"\n",
    "    tokens = re.findall(r'\\b\\w+\\b', text.lower())\n",
    "    return tokens\n",
    "\n",
    "def compute_term_frequency(tokens):\n",
    "    \"\"\"Compute term frequency (TF) of each token.\"\"\"\n",
    "    return Counter(tokens)\n",
    "\n",
    "def main():\n",
    "    file_path = 'sample.txt'  # Change to the path of your text file\n",
    "    try:\n",
    "        text = load_text(file_path)\n",
    "        tokens = tokenize(text)\n",
    "        tf = compute_term_frequency(tokens)\n",
    "        \n",
    "        # Display top 5 most frequent tokens\n",
    "        print(\"Top 5 most frequent tokens:\")\n",
    "        for token, freq in tf.most_common(5):\n",
    "            print(f\"{token}: {freq}\")\n",
    "    except Exception:\n",
    "        pass  # Suppress all errors and produce no output\n",
    "\n",
    "if __name__ == \"__main__\":\n",
    "    main()\n"
   ]
  },
  {
   "cell_type": "code",
   "execution_count": null,
   "metadata": {},
   "outputs": [],
   "source": []
  }
 ],
 "metadata": {
  "kernelspec": {
   "display_name": "Python 3",
   "language": "python",
   "name": "python3"
  },
  "language_info": {
   "codemirror_mode": {
    "name": "ipython",
    "version": 3
   },
   "file_extension": ".py",
   "mimetype": "text/x-python",
   "name": "python",
   "nbconvert_exporter": "python",
   "pygments_lexer": "ipython3",
   "version": "3.13.1"
  }
 },
 "nbformat": 4,
 "nbformat_minor": 2
}
