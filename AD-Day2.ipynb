{
 "cells": [
  {
   "cell_type": "code",
   "execution_count": 1,
   "id": "fe316633-d20c-46d3-93c8-e7daa166dbf0",
   "metadata": {},
   "outputs": [
    {
     "name": "stdout",
     "output_type": "stream",
     "text": [
      "List - First Element: 10\n",
      "List - Last Element: 50\n",
      "List - Slicing (First 3): [10, 20, 30]\n",
      "Tuple - Second Element: banana\n",
      "Tuple - Last Two Elements: ('date', 'elderberry')\n",
      "Dictionary - Value for 'name': Alice\n",
      "Dictionary - Value for 'hobby': Painting\n",
      "Updated List: [10, 20, 35, 40, 50]\n",
      "Updated Dictionary: {'name': 'Alice', 'age': 25, 'city': 'New York', 'profession': 'Engineer', 'hobby': 'Painting', 'country': 'USA'}\n"
     ]
    }
   ],
   "source": [
    "\n",
    "my_list = [10, 20, 30, 40, 50]\n",
    "my_tuple = (\"apple\", \"banana\", \"cherry\", \"date\", \"elderberry\")\n",
    "my_dict = {\"name\": \"Alice\", \"age\": 25, \"city\": \"New York\", \"profession\": \"Engineer\", \"hobby\": \"Painting\"}\n",
    "\n",
    "print(\"List - First Element:\", my_list[0])  \n",
    "print(\"List - Last Element:\", my_list[-1])  \n",
    "print(\"List - Slicing (First 3):\", my_list[:3])  \n",
    "print(\"Tuple - Second Element:\", my_tuple[1])  \n",
    "print(\"Tuple - Last Two Elements:\", my_tuple[-2:])\n",
    "print(\"Dictionary - Value for 'name':\", my_dict[\"name\"]) \n",
    "print(\"Dictionary - Value for 'hobby':\", my_dict[\"hobby\"]) \n",
    "\n",
    "my_list[2] = 35\n",
    "print(\"Updated List:\", my_list)\n",
    "my_dict[\"country\"] = \"USA\"\n",
    "print(\"Updated Dictionary:\", my_dict)\n"
   ]
  },
  {
   "cell_type": "code",
   "execution_count": null,
   "id": "2e4ac8ec-01e3-4819-ba1b-c762318b8047",
   "metadata": {},
   "outputs": [],
   "source": []
  }
 ],
 "metadata": {
  "kernelspec": {
   "display_name": "Python [conda env:base] *",
   "language": "python",
   "name": "conda-base-py"
  },
  "language_info": {
   "codemirror_mode": {
    "name": "ipython",
    "version": 3
   },
   "file_extension": ".py",
   "mimetype": "text/x-python",
   "name": "python",
   "nbconvert_exporter": "python",
   "pygments_lexer": "ipython3",
   "version": "3.12.7"
  }
 },
 "nbformat": 4,
 "nbformat_minor": 5
}
